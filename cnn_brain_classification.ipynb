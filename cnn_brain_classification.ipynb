{
 "cells": [
  {
   "cell_type": "code",
   "execution_count": null,
   "metadata": {},
   "outputs": [],
   "source": [
    "import numpy as np\n",
    "from sklearn.metrics import confusion_matrix, classification_report\n",
    "import tensorflow as tf\n",
    "from tensorflow import keras\n",
    "from tensorflow.keras import layers\n",
    "from tensorflow.keras.models import Sequential\n",
    "from tensorflow.keras.preprocessing.image import ImageDataGenerator"
   ]
  },
  {
   "cell_type": "code",
   "execution_count": null,
   "metadata": {},
   "outputs": [],
   "source": [
    "def create_model(image_shape):\n",
    "    data_augmentation = keras.Sequential([\n",
    "    layers.RandomFlip(\"horizontal\",\n",
    "                      input_shape=image_shape),\n",
    "    layers.RandomRotation(0.1)])\n",
    "\n",
    "    model = tf.keras.Sequential([\n",
    "        data_augmentation,\n",
    "        tf.keras.layers.Conv2D(32, 3, padding='same', activation='relu'),\n",
    "        tf.keras.layers.Conv2D(32, 3, padding='same', activation='relu'),\n",
    "        tf.keras.layers.MaxPooling2D(),\n",
    "        tf.keras.layers.Conv2D(64, 3, padding='same', activation='relu'),\n",
    "        tf.keras.layers.Conv2D(64, 3, padding='same', activation='relu'),\n",
    "        tf.keras.layers.MaxPooling2D(),\n",
    "        tf.keras.layers.Flatten(),\n",
    "        tf.keras.layers.Dense(256, activation='relu'),\n",
    "        tf.keras.layers.Dense(10, activation='softmax'),])\n",
    "\n",
    "    model.compile(optimizer='adam',\n",
    "                loss=tf.keras.losses.SparseCategoricalCrossentropy(from_logits=True),\n",
    "                metrics=['accuracy'])\n",
    "    return model"
   ]
  },
  {
   "cell_type": "code",
   "execution_count": null,
   "metadata": {},
   "outputs": [],
   "source": [
    "directory = r'.\\input_data'\n",
    "\n",
    "class_names = ['yes', 'no']\n",
    "classes_number = len(class_names)\n",
    "batch_size = 64\n",
    "\n",
    "img_height = 224\n",
    "img_width = 224\n",
    "img_bands = 3\n",
    "image_shape = (img_height,img_width,img_bands)\n",
    "\n",
    "epochs = 30"
   ]
  },
  {
   "cell_type": "code",
   "execution_count": null,
   "metadata": {},
   "outputs": [],
   "source": [
    "training_data = tf.keras.preprocessing.image_dataset_from_directory(\n",
    "    directory,\n",
    "    class_names = class_names,\n",
    "    color_mode='rgb',\n",
    "    batch_size=batch_size,\n",
    "    image_size=(img_height, img_width),\n",
    "    shuffle=True,\n",
    "    seed=123,\n",
    "    validation_split=0.2,\n",
    "    subset='training')\n",
    "\n",
    "validation_data = tf.keras.preprocessing.image_dataset_from_directory(\n",
    "    directory,\n",
    "    class_names = class_names,\n",
    "    color_mode='rgb',\n",
    "    batch_size=batch_size,\n",
    "    image_size=(img_height, img_width),\n",
    "    shuffle=True,\n",
    "    seed=123,\n",
    "    validation_split=0.2,\n",
    "    subset='validation')\n",
    "\n",
    "training_class_names = training_data.class_names\n",
    "validation_class_names = validation_data.class_names"
   ]
  },
  {
   "cell_type": "code",
   "execution_count": null,
   "metadata": {},
   "outputs": [],
   "source": [
    "AUTOTUNE = tf.data.AUTOTUNE\n",
    "training_data = training_data.cache().shuffle(1000).prefetch(buffer_size=AUTOTUNE)\n",
    "validation_data = validation_data.cache().prefetch(buffer_size=AUTOTUNE)"
   ]
  },
  {
   "cell_type": "code",
   "execution_count": null,
   "metadata": {},
   "outputs": [],
   "source": [
    "model = create_model(image_shape,classes_number)\n",
    "model.fit(training_data, epochs=epochs, validation_data=validation_data)\n",
    "test_loss, test_acc = model.evaluate(validation_data)"
   ]
  }
 ],
 "metadata": {
  "kernelspec": {
   "display_name": "base",
   "language": "python",
   "name": "python3"
  },
  "language_info": {
   "codemirror_mode": {
    "name": "ipython",
    "version": 3
   },
   "file_extension": ".py",
   "mimetype": "text/x-python",
   "name": "python",
   "nbconvert_exporter": "python",
   "pygments_lexer": "ipython3",
   "version": "3.10.9"
  },
  "orig_nbformat": 4
 },
 "nbformat": 4,
 "nbformat_minor": 2
}
